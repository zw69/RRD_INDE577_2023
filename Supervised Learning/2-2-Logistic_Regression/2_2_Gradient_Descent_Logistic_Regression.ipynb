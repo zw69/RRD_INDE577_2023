{
  "nbformat": 4,
  "nbformat_minor": 0,
  "metadata": {
    "colab": {
      "provenance": []
    },
    "kernelspec": {
      "name": "python3",
      "display_name": "Python 3"
    },
    "language_info": {
      "name": "python"
    }
  },
  "cells": [
    {
      "cell_type": "markdown",
      "source": [
        "# Gradient Descent - Logistic Regression"
      ],
      "metadata": {
        "id": "jrj1p9saiHcV"
      }
    },
    {
      "cell_type": "markdown",
      "source": [
        "## Introduction"
      ],
      "metadata": {
        "id": "iJAiSxXziKdy"
      }
    },
    {
      "cell_type": "markdown",
      "source": [
        "\n",
        "Gradient descent logistic regression is an optimization algorithm used to predict the probability of a binary outcome.\n",
        "\n",
        "It iteratively adjusts the model's parameters to minimize the difference between the predicted and actual classifications.\n",
        "\n",
        "This method works well for problems where the response variable is categorical—typically yes/no or true/false. The goal is to find the best fitting logistic function that describes the relationship between the dependent variable and one or more independent variables."
      ],
      "metadata": {
        "id": "9uVMXRv9iM0E"
      }
    },
    {
      "cell_type": "markdown",
      "source": [
        "## Algorithm"
      ],
      "metadata": {
        "id": "5l7ImV95iWku"
      }
    },
    {
      "cell_type": "markdown",
      "source": [
        "# Gradient Descent Logistic Regression\n",
        "\n",
        "Gradient descent logistic regression is an optimization algorithm for fitting a logistic regression model, typically used for binary classification tasks. The steps of the algorithm are as follows:\n",
        "\n",
        "1. **Model Definition**: We model the probability of a given input belonging to the default class (labeled \"1\") using a logistic function:\n",
        "\n",
        "   $$ P(Y=1|X) = \\frac{1}{1 + e^{-(b_0 + b_1X)}} $$\n",
        "\n",
        "   where \\( b_0 \\) is the intercept, \\( b_1 \\) is the coefficient for the input feature \\( X \\), and the output is a probability that lies between 0 and 1.\n",
        "\n",
        "2. **Cost Function**: The cost function used in logistic regression is the binary cross-entropy loss or log loss, which is:\n",
        "\n",
        "   $$ J(b_0, b_1) = -\\frac{1}{m} \\sum_{i=1}^{m} [y^{(i)} \\log(P(y^{(i)}|x^{(i)})) + (1-y^{(i)}) \\log(1-P(y^{(i)}|x^{(i)}))] $$\n",
        "\n",
        "   Here, \\( m \\) is the number of training examples, \\( y^{(i)} \\) is the actual label, and \\( P(y^{(i)}|x^{(i)}) \\) is the predicted probability for the \\( i \\)-th sample.\n",
        "\n",
        "3. **Gradient Descent**: This process iteratively updates the parameters \\( b_0 \\) and \\( b_1 \\) to minimize the cost function using the update rules:\n",
        "\n",
        "   $$ b_0 := b_0 - \\alpha \\frac{\\partial J}{\\partial b_0} $$\n",
        "   $$ b_1 := b_1 - \\alpha \\frac{\\partial J}{\\partial b_1} $$\n",
        "\n",
        "   where \\( \\alpha \\) is the learning rate.\n",
        "\n",
        "4. **Partial Derivatives**: The partial derivatives of the cost function with respect to \\( b_0 \\) and \\( b_1 \\) are:\n",
        "\n",
        "   $$ \\frac{\\partial J}{\\partial b_0} = \\frac{1}{m} \\sum_{i=1}^{m} (P(y^{(i)}|x^{(i)}) - y^{(i)}) $$\n",
        "   $$ \\frac{\\partial J}{\\partial b_1} = \\frac{1}{m} \\sum_{i=1}^{m} (P(y^{(i)}|x^{(i)}) - y^{(i)}) x^{(i)} $$\n",
        "\n",
        "5. **Updating the Parameters**: The update rules are applied until convergence, which occurs when changes to \\( b_0 \\) and \\( b_1 \\) are negligible.\n",
        "\n",
        "6. **Prediction**: For new input data, the model predicts the binary outcome based on the probability \\( P(Y=1|X) \\). If \\( P(Y=1|X) \\) is greater than 0.5, the predicted class is \"1\"; otherwise, it is \"0\".\n",
        "\n",
        "This algorithm is efficient for binary classification, but it assumes a linear relationship between the log odds and the features and can be sensitive to outliers.\n"
      ],
      "metadata": {
        "id": "RVKIk65mjO9f"
      }
    },
    {
      "cell_type": "markdown",
      "source": [
        "## Implementation"
      ],
      "metadata": {
        "id": "bYaQknn-jch0"
      }
    },
    {
      "cell_type": "markdown",
      "source": [
        "In this analysis, we will employ the Gradient Descent Logistic Regression model to investigate the Rolling Stone Top 500 Albums dataset. Our aim is to explore the potential of logistic regression in predicting categorical outcomes from this dataset, which could involve classifying albums into genres. By applying logistic regression, we hope to uncover underlying patterns within the album features that influence these outcomes."
      ],
      "metadata": {
        "id": "A2WijqMxjyxT"
      }
    },
    {
      "cell_type": "markdown",
      "source": [
        "Loading Dataset"
      ],
      "metadata": {
        "id": "8V3w5hevkgTg"
      }
    },
    {
      "cell_type": "code",
      "source": [
        "from sklearn.model_selection import train_test_split\n",
        "from sklearn.preprocessing import StandardScaler, LabelEncoder\n",
        "from sklearn.linear_model import LogisticRegression\n",
        "from sklearn.metrics import classification_report, confusion_matrix, accuracy_score, f1_score\n",
        "from imblearn.over_sampling import SMOTE\n",
        "from imblearn.pipeline import Pipeline\n",
        "import pandas as pd\n",
        "\n",
        "# Load dataset\n",
        "# Attempt to load the dataset with a different encoding\n",
        "try:\n",
        "    df = pd.read_csv('albumlist.csv', encoding='ISO-8859-1')\n",
        "except UnicodeDecodeError:\n",
        "    try:\n",
        "        df = pd.read_csv('albumlist.csv', encoding='latin1')\n",
        "    except UnicodeDecodeError:\n",
        "        df = pd.read_csv('albumlist.csv', encoding='cp1252')\n",
        "df.head(5)"
      ],
      "metadata": {
        "colab": {
          "base_uri": "https://localhost:8080/",
          "height": 204
        },
        "id": "DWFX_osDj5Pt",
        "outputId": "4011c8be-c969-44e1-a02f-c3ba0c977ca0"
      },
      "execution_count": 1,
      "outputs": [
        {
          "output_type": "execute_result",
          "data": {
            "text/plain": [
              "   Number  Year                                  Album          Artist  \\\n",
              "0       1  1967  Sgt. Pepper's Lonely Hearts Club Band     The Beatles   \n",
              "1       2  1966                             Pet Sounds  The Beach Boys   \n",
              "2       3  1966                               Revolver     The Beatles   \n",
              "3       4  1965                   Highway 61 Revisited       Bob Dylan   \n",
              "4       5  1965                            Rubber Soul     The Beatles   \n",
              "\n",
              "       Genre                       Subgenre  \n",
              "0       Rock  Rock & Roll, Psychedelic Rock  \n",
              "1       Rock     Pop Rock, Psychedelic Rock  \n",
              "2       Rock     Psychedelic Rock, Pop Rock  \n",
              "3       Rock          Folk Rock, Blues Rock  \n",
              "4  Rock, Pop                       Pop Rock  "
            ],
            "text/html": [
              "\n",
              "  <div id=\"df-d8c5c8df-8e16-40b8-960e-c472afd82138\" class=\"colab-df-container\">\n",
              "    <div>\n",
              "<style scoped>\n",
              "    .dataframe tbody tr th:only-of-type {\n",
              "        vertical-align: middle;\n",
              "    }\n",
              "\n",
              "    .dataframe tbody tr th {\n",
              "        vertical-align: top;\n",
              "    }\n",
              "\n",
              "    .dataframe thead th {\n",
              "        text-align: right;\n",
              "    }\n",
              "</style>\n",
              "<table border=\"1\" class=\"dataframe\">\n",
              "  <thead>\n",
              "    <tr style=\"text-align: right;\">\n",
              "      <th></th>\n",
              "      <th>Number</th>\n",
              "      <th>Year</th>\n",
              "      <th>Album</th>\n",
              "      <th>Artist</th>\n",
              "      <th>Genre</th>\n",
              "      <th>Subgenre</th>\n",
              "    </tr>\n",
              "  </thead>\n",
              "  <tbody>\n",
              "    <tr>\n",
              "      <th>0</th>\n",
              "      <td>1</td>\n",
              "      <td>1967</td>\n",
              "      <td>Sgt. Pepper's Lonely Hearts Club Band</td>\n",
              "      <td>The Beatles</td>\n",
              "      <td>Rock</td>\n",
              "      <td>Rock &amp; Roll, Psychedelic Rock</td>\n",
              "    </tr>\n",
              "    <tr>\n",
              "      <th>1</th>\n",
              "      <td>2</td>\n",
              "      <td>1966</td>\n",
              "      <td>Pet Sounds</td>\n",
              "      <td>The Beach Boys</td>\n",
              "      <td>Rock</td>\n",
              "      <td>Pop Rock, Psychedelic Rock</td>\n",
              "    </tr>\n",
              "    <tr>\n",
              "      <th>2</th>\n",
              "      <td>3</td>\n",
              "      <td>1966</td>\n",
              "      <td>Revolver</td>\n",
              "      <td>The Beatles</td>\n",
              "      <td>Rock</td>\n",
              "      <td>Psychedelic Rock, Pop Rock</td>\n",
              "    </tr>\n",
              "    <tr>\n",
              "      <th>3</th>\n",
              "      <td>4</td>\n",
              "      <td>1965</td>\n",
              "      <td>Highway 61 Revisited</td>\n",
              "      <td>Bob Dylan</td>\n",
              "      <td>Rock</td>\n",
              "      <td>Folk Rock, Blues Rock</td>\n",
              "    </tr>\n",
              "    <tr>\n",
              "      <th>4</th>\n",
              "      <td>5</td>\n",
              "      <td>1965</td>\n",
              "      <td>Rubber Soul</td>\n",
              "      <td>The Beatles</td>\n",
              "      <td>Rock, Pop</td>\n",
              "      <td>Pop Rock</td>\n",
              "    </tr>\n",
              "  </tbody>\n",
              "</table>\n",
              "</div>\n",
              "    <div class=\"colab-df-buttons\">\n",
              "\n",
              "  <div class=\"colab-df-container\">\n",
              "    <button class=\"colab-df-convert\" onclick=\"convertToInteractive('df-d8c5c8df-8e16-40b8-960e-c472afd82138')\"\n",
              "            title=\"Convert this dataframe to an interactive table.\"\n",
              "            style=\"display:none;\">\n",
              "\n",
              "  <svg xmlns=\"http://www.w3.org/2000/svg\" height=\"24px\" viewBox=\"0 -960 960 960\">\n",
              "    <path d=\"M120-120v-720h720v720H120Zm60-500h600v-160H180v160Zm220 220h160v-160H400v160Zm0 220h160v-160H400v160ZM180-400h160v-160H180v160Zm440 0h160v-160H620v160ZM180-180h160v-160H180v160Zm440 0h160v-160H620v160Z\"/>\n",
              "  </svg>\n",
              "    </button>\n",
              "\n",
              "  <style>\n",
              "    .colab-df-container {\n",
              "      display:flex;\n",
              "      gap: 12px;\n",
              "    }\n",
              "\n",
              "    .colab-df-convert {\n",
              "      background-color: #E8F0FE;\n",
              "      border: none;\n",
              "      border-radius: 50%;\n",
              "      cursor: pointer;\n",
              "      display: none;\n",
              "      fill: #1967D2;\n",
              "      height: 32px;\n",
              "      padding: 0 0 0 0;\n",
              "      width: 32px;\n",
              "    }\n",
              "\n",
              "    .colab-df-convert:hover {\n",
              "      background-color: #E2EBFA;\n",
              "      box-shadow: 0px 1px 2px rgba(60, 64, 67, 0.3), 0px 1px 3px 1px rgba(60, 64, 67, 0.15);\n",
              "      fill: #174EA6;\n",
              "    }\n",
              "\n",
              "    .colab-df-buttons div {\n",
              "      margin-bottom: 4px;\n",
              "    }\n",
              "\n",
              "    [theme=dark] .colab-df-convert {\n",
              "      background-color: #3B4455;\n",
              "      fill: #D2E3FC;\n",
              "    }\n",
              "\n",
              "    [theme=dark] .colab-df-convert:hover {\n",
              "      background-color: #434B5C;\n",
              "      box-shadow: 0px 1px 3px 1px rgba(0, 0, 0, 0.15);\n",
              "      filter: drop-shadow(0px 1px 2px rgba(0, 0, 0, 0.3));\n",
              "      fill: #FFFFFF;\n",
              "    }\n",
              "  </style>\n",
              "\n",
              "    <script>\n",
              "      const buttonEl =\n",
              "        document.querySelector('#df-d8c5c8df-8e16-40b8-960e-c472afd82138 button.colab-df-convert');\n",
              "      buttonEl.style.display =\n",
              "        google.colab.kernel.accessAllowed ? 'block' : 'none';\n",
              "\n",
              "      async function convertToInteractive(key) {\n",
              "        const element = document.querySelector('#df-d8c5c8df-8e16-40b8-960e-c472afd82138');\n",
              "        const dataTable =\n",
              "          await google.colab.kernel.invokeFunction('convertToInteractive',\n",
              "                                                    [key], {});\n",
              "        if (!dataTable) return;\n",
              "\n",
              "        const docLinkHtml = 'Like what you see? Visit the ' +\n",
              "          '<a target=\"_blank\" href=https://colab.research.google.com/notebooks/data_table.ipynb>data table notebook</a>'\n",
              "          + ' to learn more about interactive tables.';\n",
              "        element.innerHTML = '';\n",
              "        dataTable['output_type'] = 'display_data';\n",
              "        await google.colab.output.renderOutput(dataTable, element);\n",
              "        const docLink = document.createElement('div');\n",
              "        docLink.innerHTML = docLinkHtml;\n",
              "        element.appendChild(docLink);\n",
              "      }\n",
              "    </script>\n",
              "  </div>\n",
              "\n",
              "\n",
              "<div id=\"df-7dcaacbd-c3b9-46c6-935b-cd1f0a7cb6a1\">\n",
              "  <button class=\"colab-df-quickchart\" onclick=\"quickchart('df-7dcaacbd-c3b9-46c6-935b-cd1f0a7cb6a1')\"\n",
              "            title=\"Suggest charts\"\n",
              "            style=\"display:none;\">\n",
              "\n",
              "<svg xmlns=\"http://www.w3.org/2000/svg\" height=\"24px\"viewBox=\"0 0 24 24\"\n",
              "     width=\"24px\">\n",
              "    <g>\n",
              "        <path d=\"M19 3H5c-1.1 0-2 .9-2 2v14c0 1.1.9 2 2 2h14c1.1 0 2-.9 2-2V5c0-1.1-.9-2-2-2zM9 17H7v-7h2v7zm4 0h-2V7h2v10zm4 0h-2v-4h2v4z\"/>\n",
              "    </g>\n",
              "</svg>\n",
              "  </button>\n",
              "\n",
              "<style>\n",
              "  .colab-df-quickchart {\n",
              "      --bg-color: #E8F0FE;\n",
              "      --fill-color: #1967D2;\n",
              "      --hover-bg-color: #E2EBFA;\n",
              "      --hover-fill-color: #174EA6;\n",
              "      --disabled-fill-color: #AAA;\n",
              "      --disabled-bg-color: #DDD;\n",
              "  }\n",
              "\n",
              "  [theme=dark] .colab-df-quickchart {\n",
              "      --bg-color: #3B4455;\n",
              "      --fill-color: #D2E3FC;\n",
              "      --hover-bg-color: #434B5C;\n",
              "      --hover-fill-color: #FFFFFF;\n",
              "      --disabled-bg-color: #3B4455;\n",
              "      --disabled-fill-color: #666;\n",
              "  }\n",
              "\n",
              "  .colab-df-quickchart {\n",
              "    background-color: var(--bg-color);\n",
              "    border: none;\n",
              "    border-radius: 50%;\n",
              "    cursor: pointer;\n",
              "    display: none;\n",
              "    fill: var(--fill-color);\n",
              "    height: 32px;\n",
              "    padding: 0;\n",
              "    width: 32px;\n",
              "  }\n",
              "\n",
              "  .colab-df-quickchart:hover {\n",
              "    background-color: var(--hover-bg-color);\n",
              "    box-shadow: 0 1px 2px rgba(60, 64, 67, 0.3), 0 1px 3px 1px rgba(60, 64, 67, 0.15);\n",
              "    fill: var(--button-hover-fill-color);\n",
              "  }\n",
              "\n",
              "  .colab-df-quickchart-complete:disabled,\n",
              "  .colab-df-quickchart-complete:disabled:hover {\n",
              "    background-color: var(--disabled-bg-color);\n",
              "    fill: var(--disabled-fill-color);\n",
              "    box-shadow: none;\n",
              "  }\n",
              "\n",
              "  .colab-df-spinner {\n",
              "    border: 2px solid var(--fill-color);\n",
              "    border-color: transparent;\n",
              "    border-bottom-color: var(--fill-color);\n",
              "    animation:\n",
              "      spin 1s steps(1) infinite;\n",
              "  }\n",
              "\n",
              "  @keyframes spin {\n",
              "    0% {\n",
              "      border-color: transparent;\n",
              "      border-bottom-color: var(--fill-color);\n",
              "      border-left-color: var(--fill-color);\n",
              "    }\n",
              "    20% {\n",
              "      border-color: transparent;\n",
              "      border-left-color: var(--fill-color);\n",
              "      border-top-color: var(--fill-color);\n",
              "    }\n",
              "    30% {\n",
              "      border-color: transparent;\n",
              "      border-left-color: var(--fill-color);\n",
              "      border-top-color: var(--fill-color);\n",
              "      border-right-color: var(--fill-color);\n",
              "    }\n",
              "    40% {\n",
              "      border-color: transparent;\n",
              "      border-right-color: var(--fill-color);\n",
              "      border-top-color: var(--fill-color);\n",
              "    }\n",
              "    60% {\n",
              "      border-color: transparent;\n",
              "      border-right-color: var(--fill-color);\n",
              "    }\n",
              "    80% {\n",
              "      border-color: transparent;\n",
              "      border-right-color: var(--fill-color);\n",
              "      border-bottom-color: var(--fill-color);\n",
              "    }\n",
              "    90% {\n",
              "      border-color: transparent;\n",
              "      border-bottom-color: var(--fill-color);\n",
              "    }\n",
              "  }\n",
              "</style>\n",
              "\n",
              "  <script>\n",
              "    async function quickchart(key) {\n",
              "      const quickchartButtonEl =\n",
              "        document.querySelector('#' + key + ' button');\n",
              "      quickchartButtonEl.disabled = true;  // To prevent multiple clicks.\n",
              "      quickchartButtonEl.classList.add('colab-df-spinner');\n",
              "      try {\n",
              "        const charts = await google.colab.kernel.invokeFunction(\n",
              "            'suggestCharts', [key], {});\n",
              "      } catch (error) {\n",
              "        console.error('Error during call to suggestCharts:', error);\n",
              "      }\n",
              "      quickchartButtonEl.classList.remove('colab-df-spinner');\n",
              "      quickchartButtonEl.classList.add('colab-df-quickchart-complete');\n",
              "    }\n",
              "    (() => {\n",
              "      let quickchartButtonEl =\n",
              "        document.querySelector('#df-7dcaacbd-c3b9-46c6-935b-cd1f0a7cb6a1 button');\n",
              "      quickchartButtonEl.style.display =\n",
              "        google.colab.kernel.accessAllowed ? 'block' : 'none';\n",
              "    })();\n",
              "  </script>\n",
              "</div>\n",
              "    </div>\n",
              "  </div>\n"
            ]
          },
          "metadata": {},
          "execution_count": 1
        }
      ]
    },
    {
      "cell_type": "markdown",
      "source": [
        " Implementing Gradient Descent for Logistic Regression"
      ],
      "metadata": {
        "id": "i0bDcTeCknbX"
      }
    },
    {
      "cell_type": "code",
      "source": [
        "# Preprocessing\n",
        "# Convert 'Genre' to a binary variable where 1 indicates 'Rock' and 0 indicates other genres\n",
        "df['Is_Rock'] = df['Genre'].apply(lambda x: 1 if 'rock' in x.lower() else 0)\n",
        "\n",
        "\n",
        "# Encoding categorical features\n",
        "le = LabelEncoder()\n",
        "df['Artist_Encoded'] = le.fit_transform(df['Artist'])\n",
        "\n",
        "# Features and Target\n",
        "X = df[['Year', 'Artist_Encoded']]  # You could add more features here\n",
        "y = df['Is_Rock']\n",
        "\n",
        "# Split the data into training and test sets\n",
        "X_train, X_test, y_train, y_test = train_test_split(X, y, test_size=0.2, random_state=42)\n",
        "\n",
        "# Create a pipeline that first oversamples the training data and then runs logistic regression\n",
        "pipeline = Pipeline([\n",
        "    ('oversample', SMOTE(random_state=42)),\n",
        "    ('scaler', StandardScaler()),\n",
        "    ('classifier', LogisticRegression(class_weight='balanced', random_state=42))\n",
        "])\n",
        "\n",
        "# Fit the pipeline to the training data\n",
        "pipeline.fit(X_train, y_train)\n",
        "\n",
        "# Make predictions on the test set\n",
        "y_pred = pipeline.predict(X_test)\n"
      ],
      "metadata": {
        "id": "6sgWZ-p0ok5C"
      },
      "execution_count": 2,
      "outputs": []
    },
    {
      "cell_type": "markdown",
      "source": [
        "Model Evaluation"
      ],
      "metadata": {
        "id": "NFxXyLggkuAi"
      }
    },
    {
      "cell_type": "code",
      "source": [
        "# Calculate accuracy\n",
        "accuracy = accuracy_score(y_test, y_pred)\n",
        "print(f'Accuracy: {accuracy}')\n",
        "\n",
        "# Calculate F1 score\n",
        "f1 = f1_score(y_test, y_pred, average='binary')  # Use 'binary' if you have binary classification\n",
        "print(f'F1 Score: {f1}')\n",
        "\n",
        "# For multi-class classification, you might want to compute the F1 score for each class\n",
        "f1_weighted = f1_score(y_test, y_pred, average='weighted')  # 'weighted' accounts for label imbalance\n",
        "print(f'Weighted F1 Score: {f1_weighted}')\n",
        "\n",
        "# Print the classification report and confusion matrix\n",
        "print(classification_report(y_test, y_pred))\n",
        "print(confusion_matrix(y_test, y_pred))\n"
      ],
      "metadata": {
        "colab": {
          "base_uri": "https://localhost:8080/"
        },
        "id": "MZSz10XHonPd",
        "outputId": "69573c51-4e50-4ee3-93f7-fc2ebfd0cf90"
      },
      "execution_count": 3,
      "outputs": [
        {
          "output_type": "stream",
          "name": "stdout",
          "text": [
            "Accuracy: 0.59\n",
            "F1 Score: 0.6821705426356588\n",
            "Weighted F1 Score: 0.6120690031662844\n",
            "              precision    recall  f1-score   support\n",
            "\n",
            "           0       0.34      0.56      0.42        27\n",
            "           1       0.79      0.60      0.68        73\n",
            "\n",
            "    accuracy                           0.59       100\n",
            "   macro avg       0.56      0.58      0.55       100\n",
            "weighted avg       0.67      0.59      0.61       100\n",
            "\n",
            "[[15 12]\n",
            " [29 44]]\n"
          ]
        }
      ]
    },
    {
      "cell_type": "code",
      "source": [
        "import matplotlib.pyplot as plt\n",
        "import seaborn as sns\n",
        "from sklearn.metrics import confusion_matrix\n",
        "\n",
        "# Assuming y_test and y_pred are defined and contain the true labels and the predicted labels, respectively\n",
        "conf_matrix = confusion_matrix(y_test, y_pred)\n",
        "\n",
        "# Plot the confusion matrix\n",
        "plt.figure(figsize=(8, 6))\n",
        "sns.heatmap(conf_matrix, annot=True, fmt='d', cmap='Blues', xticklabels=['Non-Rock', 'Rock'], yticklabels=['Non-Rock', 'Rock'])\n",
        "plt.xlabel('Predicted Label')\n",
        "plt.ylabel('True Label')\n",
        "plt.title('Confusion Matrix Visualization')\n",
        "plt.show()\n"
      ],
      "metadata": {
        "colab": {
          "base_uri": "https://localhost:8080/",
          "height": 564
        },
        "id": "harB17Y1qTaq",
        "outputId": "3192e683-21ad-4c4a-c776-29b99d230fc1"
      },
      "execution_count": 4,
      "outputs": [
        {
          "output_type": "display_data",
          "data": {
            "text/plain": [
              "<Figure size 800x600 with 2 Axes>"
            ],
            "image/png": "[encoded data removed]"
          },
          "metadata": {}
        }
      ]
    },
    {
      "cell_type": "markdown",
      "source": [
        "The performance metrics given indicate the following about the logistic regression model:\n",
        "\n",
        "1. **Accuracy (0.59 or 59%):** This metric tells us that 59% of the total predictions made by the model were correct. While this is better than random guessing, it suggests that there's significant room for improvement.\n",
        "\n",
        "2. **F1 Score (0.68 for class 1):** The F1 score for the positive class (which we can assume to be 'Rock') is relatively higher than the F1 score for the negative class. This score is the harmonic mean of precision and recall, giving us a sense of the balance between these two metrics.\n",
        "\n",
        "3. **Weighted F1 Score (0.61):** This takes into account the F1 score of each class, weighted by the number of samples in each class. It is lower than the F1 score for the positive class, indicating that the model is performing worse on the less represented class."
      ],
      "metadata": {
        "id": "tDK4HjTzoy78"
      }
    },
    {
      "cell_type": "markdown",
      "source": [
        "The confusion matrix provides a deeper insight:\n",
        "\n",
        "**Confusion Matrix:**\n",
        "\n",
        "**[[15 12]:** Of the 27 albums that were not Rock, the model correctly identified 15 as not Rock (true negatives), but incorrectly labeled 12 as Rock (false positives).\n",
        "\n",
        "**[29 44]]:** Of the 73 Rock albums, the model correctly identified 44 as Rock (true positives), but 29 were incorrectly labeled as not Rock (false negatives)."
      ],
      "metadata": {
        "id": "zlHZy_DXpacG"
      }
    },
    {
      "cell_type": "markdown",
      "source": [
        "## Conclusion"
      ],
      "metadata": {
        "id": "vJqXe-8lprea"
      }
    },
    {
      "cell_type": "markdown",
      "source": [
        "In summary, while the model is reasonably good at identifying Rock albums, it struggles with identifying non-Rock albums, often confusing them with Rock. The model is particularly weak in terms of precision for non-Rock albums, indicating a tendency to label albums as Rock even when they are not. This could potentially be addressed by gathering more balanced data, feature engineering, or trying different model architectures or hyperparameters."
      ],
      "metadata": {
        "id": "0mg3N6rUps3s"
      }
    }
  ]
}